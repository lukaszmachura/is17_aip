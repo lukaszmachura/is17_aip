{
 "cells": [
  {
   "cell_type": "markdown",
   "metadata": {
    "collapsed": true
   },
   "source": [
    "## AiP, grupa 8\n",
    "### Praca domowa 01 [100 pkt]\n",
    "\n",
    "Proszę użyć tego arkusza do rozwiązania zadań domowych. Na początek proszę zmienić 'nazwisko_imie' na Państwa nazwisko i imie, bez polskich znaków diakrytycznych.\n",
    "\n",
    "Część zadań to powtórka z zajęć. Jak już Państwo zaprogramują wszytsko, proszę zapisać arkusz (File->Save and Checkpoint) oraz zapisać arkusz na dysk (File->Download as->Notebook). Ten plik proszę wgrać na classroom. \n",
    "\n",
    "Jeszcze jedna uwaga: Używamy zmiennych oraz komentarzy (tam gdzie to w/g Państwa niezbędne).\n",
    "\n",
    "### Mierzymy czas\n",
    "Aby mieć jako - taki pogląd jak długo będziemy czekać na zakończenie działania programu dla dużych danych wejściownych (coś co może przypominać asymptotyczną złożoność obliczeniową) możemy mierzyć czas wykonywania programu dla zwiąkszających się danych wejściowych. Często dzięki takiej prostej metodzie można oszacować jak długo czasu będzie program potrzebował aby wykonać się dla naprawdę dużych danych wejściowych. Poniżej przykład"
   ]
  },
  {
   "cell_type": "code",
   "execution_count": null,
   "metadata": {
    "collapsed": true
   },
   "outputs": [],
   "source": [
    "import time\n",
    "import pylab\n",
    "%matplotlib inline"
   ]
  },
  {
   "cell_type": "code",
   "execution_count": null,
   "metadata": {
    "collapsed": false
   },
   "outputs": [],
   "source": [
    "def f(N):\n",
    "    \"\"\"prosta funkcja o asymptotyce O(N)\"\"\"\n",
    "    r = 1\n",
    "    for i in range(N):\n",
    "        r += 1\n",
    "    return r\n",
    "\n",
    "\n",
    "lN = range(100000, 1000000 + 1, 100000)\n",
    "czasy = []\n",
    "for N in lN:\n",
    "    start = time.time()\n",
    "    f(N)    \n",
    "    stop = time.time()    \n",
    "    czasy.append(stop - start)"
   ]
  },
  {
   "cell_type": "markdown",
   "metadata": {},
   "source": [
    "oraz później taką zależność narysować..."
   ]
  },
  {
   "cell_type": "code",
   "execution_count": null,
   "metadata": {
    "collapsed": false
   },
   "outputs": [],
   "source": [
    "pylab.plot(lN, czasy, 'o-')\n",
    "pylab.xlabel('N')\n",
    "pylab.ylabel('T')"
   ]
  },
  {
   "cell_type": "markdown",
   "metadata": {},
   "source": [
    "## Uwaga 1\n",
    "\n",
    "Do każdej poniższej funkcji proszę przeprowadzić takie obliczenia jak powyżej. Tak możecie zdobyć 50% punktów z tej pracy domowej.\n",
    "\n",
    "## Uwaga 2\n",
    "Aby ułatwić sobie życie i nie konstruować samodzielnie list o zadanej wielkości (np: 1000 elementów) można użyć modułu random oraz wyrażeń listowych. Np. tak jak poniżej można wygenerować listę 100 liczb zmiennoprzecinkowych z zakresu (0, 1)."
   ]
  },
  {
   "cell_type": "code",
   "execution_count": null,
   "metadata": {
    "collapsed": false
   },
   "outputs": [],
   "source": [
    "import random\n",
    "N = 100\n",
    "lista = [random.random() for i in range(N)]\n",
    "print(len(lista))"
   ]
  },
  {
   "cell_type": "code",
   "execution_count": null,
   "metadata": {
    "collapsed": true
   },
   "outputs": [],
   "source": []
  },
  {
   "cell_type": "code",
   "execution_count": null,
   "metadata": {
    "collapsed": true
   },
   "outputs": [],
   "source": []
  },
  {
   "cell_type": "markdown",
   "metadata": {},
   "source": [
    "### Zadanie 1 [10 pkt]\n",
    "\n",
    "Napisz funkcję wyszukującą zadaną wartość w posortowanej liście. Zwróć jej indeks lub None gdy wartości nie ma w liście. Użyj wyszukiwania siłowego (krok po kroku). Jaką złożoność asymptotyczną ma ten problem? "
   ]
  },
  {
   "cell_type": "code",
   "execution_count": null,
   "metadata": {
    "collapsed": true
   },
   "outputs": [],
   "source": []
  },
  {
   "cell_type": "markdown",
   "metadata": {},
   "source": [
    "### Zadanie 2 [10 pkt]\n",
    "\n",
    "Napisz funkcję wyszukującą zadaną wartość w posortowanej liście. Zwróć jej indeks lub None gdy wartości nie ma w liście. Użyj metody równego podziału. Jaką złożoność asymptotyczną ma ten problem?"
   ]
  },
  {
   "cell_type": "code",
   "execution_count": null,
   "metadata": {
    "collapsed": true
   },
   "outputs": [],
   "source": []
  },
  {
   "cell_type": "markdown",
   "metadata": {},
   "source": [
    "### Zadanie 3 [10 pkt]\n",
    "Napisz funkcję obliczającą N-ty wyraz ciągu Fibbonaciego. Rozwiąż problem iteracyjnie. "
   ]
  },
  {
   "cell_type": "code",
   "execution_count": null,
   "metadata": {
    "collapsed": true
   },
   "outputs": [],
   "source": []
  },
  {
   "cell_type": "markdown",
   "metadata": {},
   "source": [
    "### Zadanie 4 [10 pkt]\n",
    "Napisz funkcję obliczającą N-ty wyraz ciągu Fibbonaciego. Rozwiąż problem rekurencyjnie. "
   ]
  },
  {
   "cell_type": "code",
   "execution_count": null,
   "metadata": {
    "collapsed": true
   },
   "outputs": [],
   "source": []
  },
  {
   "cell_type": "markdown",
   "metadata": {},
   "source": [
    "### Zadanie 5* [10 pkt]\n",
    "\n",
    "Przeczytaj o [sortowaniu bąbelkowym](https://pl.wikipedia.org/wiki/Sortowanie_b%C4%85belkowe). Następnie zaprogramuj takie sortowanie. Na końcu zmierz czas w zależności od wielkości listy wejściowej."
   ]
  },
  {
   "cell_type": "code",
   "execution_count": null,
   "metadata": {
    "collapsed": false
   },
   "outputs": [],
   "source": []
  },
  {
   "cell_type": "code",
   "execution_count": null,
   "metadata": {
    "collapsed": true
   },
   "outputs": [],
   "source": []
  }
 ],
 "metadata": {
  "kernelspec": {
   "display_name": "Python 3",
   "language": "python",
   "name": "python3"
  },
  "language_info": {
   "codemirror_mode": {
    "name": "ipython",
    "version": 3
   },
   "file_extension": ".py",
   "mimetype": "text/x-python",
   "name": "python",
   "nbconvert_exporter": "python",
   "pygments_lexer": "ipython3",
   "version": "3.5.2"
  }
 },
 "nbformat": 4,
 "nbformat_minor": 1
}
