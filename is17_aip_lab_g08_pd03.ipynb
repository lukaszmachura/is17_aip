{
 "cells": [
  {
   "cell_type": "markdown",
   "metadata": {},
   "source": [
    "## AiP, grupa 8\n",
    "### Praca domowa 03 [200 pkt]\n",
    "\n",
    "Proszę użyć tego arkusza do rozwiązania zadań domowych. Na początek proszę zmienić 'nazwisko_imie' na Państwa nazwisko i imie, bez polskich znaków diakrytycznych.\n",
    "\n",
    "Część zadań to powtórka z zajęć. Jak już Państwo zaprogramują wszytsko, proszę zapisać arkusz (File->Save and Checkpoint) oraz zapisać arkusz na dysk (File->Download as->Notebook). Ten plik proszę wgrać na classroom. \n",
    "\n",
    "Jeszcze jedna uwaga: Używamy klas/funkcji/zmiennych oraz **komentarzy** (tam gdzie to w/g Państwa niezbędne).\n"
   ]
  },
  {
   "cell_type": "code",
   "execution_count": null,
   "metadata": {},
   "outputs": [],
   "source": []
  },
  {
   "cell_type": "markdown",
   "metadata": {},
   "source": [
    "## Zadanie 1 [50 pkt]: Tablica z haszowaniem: metoda łańcuchowa\n",
    "\n",
    "### Część 1, kod, 30 pkt\n",
    "Na bazie klasy, którą projektowaliśmy na zajęciach proszę zbudować klasę `ChainHashTable` o nastepujących własnościach:\n",
    "\n",
    "* do rozwiązywania kolizji użyć metody łańcuchowej\n",
    "* zaproponować minimum 3 różne funkcje haszujące - jedną z nich powinno być haszowanie modularne, drugą i trzecią muszą wymyślić Państwo sami; jedną z nich należy ustawić jako domyślną (podczas instancjonowania)\n",
    "* kluczami będą tylko liczby INT (jak np: PESEL)\n",
    "* INSERT: bazując na tym proszę zoptymalizować umieszczanie poszczególnych par (klucz, wartość) w odpowiednim łańcuchu tak, aby wpisy były posortowane rosnąco ze względu na wartość klucza (binarnie)\n",
    "* SEARCH: w łańcuchach użyć wyszukiwania binarnego\n",
    "\n",
    "### Część 2, testy, 10 pkt\n",
    "Klasę proszę przetestować porządnie (co np: z ujemnymi kluczami?). \n",
    "\n",
    "### Część 3, złożoność obliczeniowa, 10 pkt\n",
    "Proszę omówić (komórka w trybie `Markdown`) złożoność obliczeniową metod INSERT, SEARCH, DELETE. Podpowiedzi znajdziecie w Cormenie."
   ]
  },
  {
   "cell_type": "code",
   "execution_count": null,
   "metadata": {},
   "outputs": [],
   "source": []
  },
  {
   "cell_type": "markdown",
   "metadata": {},
   "source": [
    "## Zadanie 2 [100 pkt]: Sortowanie\n",
    "\n",
    "### Zad 2A (15 pkt)\n",
    "Napisz funkcję realizującą algorytm sortowania przez wstawianie.\n",
    "\n",
    "### Zad 2B (15 pkt)\n",
    "Napisz funkcję realizującą algorytm sortowania bąbelkowego.\n",
    "\n",
    "### Zad 2C (15 pkt)\n",
    "Napisz funkcję realizującą algorytm sortowania przez scalanie.\n",
    "\n",
    "### Zad 2D (25 pkt)\n",
    "Napisz funkcję realizującą algorytm sortowania szybkiego. Aby uzyskać maksymalną ilość punktów proszę w komórce w trybie `Markdown` opisać swoimi słowami jak działa ten algorytm. Należy obowiazkowo przedstawić również jeden prosty przykład.\n",
    "\n",
    "### Zad 2E (15 pkt)\n",
    "Napisz funkcję realizującą algorytm bogosort.\n",
    "\n",
    "### Zad 2F (15 pkt)\n",
    "To zadanie będzie wymagało wygenerowania plików graficznych. Robili to Państwo, więc nie powinno być problemów.\n",
    "Napisz testy dla powyższych funkcji. Najlepiej gdyby była to pojedyncza funkcja do testów, przyjmująca jako parametr albo samą funkcję (z zadań A-E) albo jakąś nazwę owej funkcji\n",
    "\n",
    "    test(L, sort_babel)\n",
    "\n",
    "lub\n",
    "\n",
    "    test(L, “sort_babel”)\n",
    "\n",
    "W ramach testów proszę przeprowadzić test wydajności czasowej (szybkości) działania algorytmu na Państwa maszynach. Można oddać dane uzyskane z pomiaru czasu działania algroytmów za pomocą tabeli, ale wolałbym żeby Państwo narysowali mi wykres uzyskanych danych. Na osi OX proszę odłożyć len(LISTA) (czyli ilość danych wejściowych), a na osi obliczony czas działania poszczególnych algorytmów.\n",
    "\n",
    "np: dla Intel(R) Core(TM) i5-2500 CPU @ 3.30GHz, 4GB RAM, dla kilku algorytmów dostałem taki oto rysunek dla losowo wygenerowanych list liczb typu INT\n",
    "\n",
    "<p align=\"center\">\n",
    "<img src=\"https://lh6.googleusercontent.com/wIHfD6XwNp2MMylbhLmgUrxJAPaYSErerYHbOas-0aB1-p6Q6NiEfsE21ghgECI3b5tlR_9Po90sOv_OAYHX4dMfapU6ywBBGM_F574BL5zobeHhK9E=w773\">\n",
    "</p>\n",
    "\n",
    "#### Zadanie właściwe (2F)\n",
    "proszę opisać:\n",
    "\n",
    "* jakie używaliście dane\n",
    "* maszynę na której były obliczenia\n",
    "* podacie tabelę/rysunek z wynikami testów\n",
    "* opiszecie WNIOSKI\n",
    "\n",
    "**Uwaga 1 (baaaardzo ważna)**\n",
    "Aby przeprowadzić prawdziwe porównanie proszę wygenerować trzy obrazki:\n",
    "* na pierwszym testują Państwo czas optymistyczny (czyli do algorytmu dajemy posortowaną tablicę)\n",
    "* na drugim testujemy czas pesymistyczny (czyli do algorytmu podajemy odwrotnie posortowaną tablicę)\n",
    "* na trzecim (i najważniejszym) testujemy czas średni - aby obliczyć ten czas należy podać tablicę losową:\n",
    "\n",
    "```\n",
    "    import random\n",
    "    N = 100\n",
    "    T = [random.randint(0, N) for i in range(N)]\n",
    "```\n",
    "\n",
    "Ten przypadek należy uruchomić kilka razy (np: 32 razy) i na wykresie odłożyć wartość średnią czasu wykonania algorytmu.\n",
    "\n",
    "**Uwaga 2**\n",
    "do porównania nazw funkcji można wykorzystać metodę __name__ która jest dostępna dla kazdej funkcji\n",
    "    def ala(): \n",
    "        pass\n",
    "    print(type(ala.__name__))\n",
    "\n",
    "**Uwaga 3**\n",
    "Z `bogosort` trzeba uważać, bo jest diabelnie wolny. Ja bym go nie testował dla len(lista) > 10. "
   ]
  },
  {
   "cell_type": "code",
   "execution_count": null,
   "metadata": {},
   "outputs": [],
   "source": []
  },
  {
   "cell_type": "markdown",
   "metadata": {},
   "source": [
    "## Zadanie 3 [50 pkt]\n",
    "\n",
    "### Zad 3A [10 pkt]\n",
    "Proszę zbudować prostą klasę `Wektor`. Ma ona stworzyć strukturę danych opisującą [wektory na dwuwymiarowej płaszczyźnie](https://pl.wikipedia.org/wiki/Wektor). Klasa ma posiadać prostą funkcjonalność - poniżej.\n",
    "\n",
    "* obliczać moduł (długość) wektora (2 pkt)\n",
    "\n",
    "* obliczać kąt nachylenia względem osi odciętych OX (2 pkt)\n",
    "\n",
    "* obliczać kąt nachylenia względem osi rzędnych OY (2 pkt)\n",
    "\n",
    "* obliczać współrzędne wektora o przeciwnym zwrocie do obecnego (2 pkt)\n",
    "\n",
    "* proszę zaprogramować [funkcje specjalne](https://pl.python.org/docs/ref/node15.html) `__repr__` oraz `__str__` o których mówiliśmy na zajęciach (po 1 pkt)"
   ]
  },
  {
   "cell_type": "code",
   "execution_count": 3,
   "metadata": {},
   "outputs": [],
   "source": [
    "class Wektor:\n",
    "    \"\"\"3A\"\"\"\n",
    "    \n",
    "    def __init__(self, ax, ay, bx, by):\n",
    "        self.ax = ax\n",
    "        self.ay = ay\n",
    "        self.bx = bx\n",
    "        self.by = by\n",
    "    \n",
    "    def modul(self):\n",
    "        \"\"\"...\"\"\"\n",
    "    \n",
    "    def nachylenie_ox(self):\n",
    "        \"\"\"...\"\"\"\n",
    "    \n",
    "    def nachylenie_oy(self):\n",
    "        \"\"\"...\"\"\"\n",
    "    \n",
    "    def zwroc_wektor_przeciwny(self):\n",
    "        \"\"\"...\"\"\"\n",
    "    \n",
    "    def __repr__(self):\n",
    "        pass\n",
    "    \n",
    "    def __str__(self):\n",
    "        pass"
   ]
  },
  {
   "cell_type": "markdown",
   "metadata": {},
   "source": [
    "### Zadanie 3B [10 pkt]\n",
    "Proszę przepisać powyższą klasę, ale tak, by funkcja `__init__` jako argument posiadała listę punktów `[(ax, ay), (bx, by)]` definiujących wektor, a nie 4 osobne wartości (4 pkt). Reszta funkcjonalności ma być identyczna (6 pkt)."
   ]
  },
  {
   "cell_type": "code",
   "execution_count": 4,
   "metadata": {},
   "outputs": [],
   "source": [
    "class Wektor:\n",
    "    \"\"\"3B\"\"\"\n",
    "    \n",
    "    def __init__(self, w):\n",
    "        pass\n",
    "    \n",
    "    def modul(self):\n",
    "        pass\n",
    "    \n",
    "    def nachylenie_ox(self):\n",
    "        pass\n",
    "    \n",
    "    def nachylenie_oy(self):\n",
    "        pass\n",
    "    \n",
    "    def zwroc_wektor_przeciwny(self):\n",
    "        pass\n",
    "    \n",
    "    def __repr__(self):\n",
    "        pass\n",
    "    \n",
    "    def __str__(self):\n",
    "        pass"
   ]
  },
  {
   "cell_type": "markdown",
   "metadata": {},
   "source": [
    "### Zadanie 3C [10 pkt]\n",
    "\n",
    "Jeżeli w zadaniu 3B obliczanie długości zaprogramujecie rozsądnie, to w bardzo prosty sposób można klasę `Wektor` uogólnić na przypadek trójwymiarowy. Dojdzie nam oczywiście kolejna funkcja obliczająca kąt nachylenia względem osi OZ (koty)."
   ]
  },
  {
   "cell_type": "code",
   "execution_count": 7,
   "metadata": {},
   "outputs": [],
   "source": [
    "class Wektor3D:\n",
    "    pass"
   ]
  },
  {
   "cell_type": "markdown",
   "metadata": {},
   "source": [
    "### Zadanie 3D [20 pkt]\n",
    "\n",
    "Zaczynamy od wersji Wektora 2D (zadanie 3B). Dodajemy nowe własności\n",
    "\n",
    "* obrót o zadany kąt $\\gamma$ (modyfikuje stan obiektu) (1 pkt)\n",
    "\n",
    "* translacja (przesunięcie) - proszę rozbić na podproblemy przesunięcia względem OX i OY (osobne funkcje),  (modyfikuje stan obiektu) (1 pkt)\n",
    "\n",
    "* dodawanie 2 wektorów (zwraca nowy obiekt o typie Wektor) (1 pkt)\n",
    "\n",
    "* odejmowanie 2 wektorów (zwraca nowy obiekt o typie Wektor) (1 pkt)\n",
    "\n",
    "* funkcja `get_wektor` zwracająca obiekt (1 pkt)\n",
    "\n",
    "* funkcja `set_wektor` umożliwiająca modyfikację stanu wektora (punktów początkowego i końcowego) (2 pkt)\n",
    "\n",
    "* rzut wektora na OX (zwraca nowy obiekt o typie Wektor) (1 pkt)\n",
    "\n",
    "* rzut wektora na OY (zwraca nowy obiekt o typie Wektor) (1 pkt)\n",
    "\n",
    "* [mnożenie wektora przez skalar](https://pl.wikipedia.org/wiki/Mno%C5%BCenie_przez_skalar) (zwraca nowy obiekt o typie Wektor) (2 pkt) \n",
    "\n",
    "* [iloczyn skalarny dwóch wektorów](https://pl.wikipedia.org/wiki/Iloczyn_skalarny) (zwraca liczbę) (2 pkt)\n",
    "\n",
    "* odbicie wektora względem osi OX (zwraca nowy obiekt o typie Wektor) (2 pkt)\n",
    "\n",
    "* odbicie wektora względem osi OY (zwraca nowy obiekt o typie Wektor) (2 pkt)\n",
    "\n",
    "* skalowanie wektora z zachowaniem punktu przyłożenia (modyfikuje stan obiektu) (2 pkt)\n",
    "\n",
    "* funkcja przesuwająca wektor do początku układu współrzędnych (modyfikuje stan obiektu) (1 pkt)"
   ]
  },
  {
   "cell_type": "code",
   "execution_count": 6,
   "metadata": {},
   "outputs": [],
   "source": [
    "class Wektor:\n",
    "    pass"
   ]
  },
  {
   "cell_type": "code",
   "execution_count": null,
   "metadata": {},
   "outputs": [],
   "source": []
  }
 ],
 "metadata": {
  "kernelspec": {
   "display_name": "Python 3",
   "language": "python",
   "name": "python3"
  },
  "language_info": {
   "codemirror_mode": {
    "name": "ipython",
    "version": 3
   },
   "file_extension": ".py",
   "mimetype": "text/x-python",
   "name": "python",
   "nbconvert_exporter": "python",
   "pygments_lexer": "ipython3",
   "version": "3.6.3"
  }
 },
 "nbformat": 4,
 "nbformat_minor": 2
}
