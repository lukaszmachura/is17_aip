{
 "cells": [
  {
   "cell_type": "markdown",
   "metadata": {},
   "source": [
    "## AiP, grupa 8\n",
    "### Praca domowa 02 [100 pkt]\n",
    "\n",
    "Proszę użyć tego arkusza do rozwiązania zadań domowych. Na początek proszę zmienić 'nazwisko_imie' na Państwa nazwisko i imie, bez polskich znaków diakrytycznych.\n",
    "\n",
    "Część zadań to powtórka z zajęć. Jak już Państwo zaprogramują wszytsko, proszę zapisać arkusz (File->Save and Checkpoint) oraz zapisać arkusz na dysk (File->Download as->Notebook). Ten plik proszę wgrać na classroom. \n",
    "\n",
    "Jeszcze jedna uwaga: Używamy klas/funkcji/zmiennych oraz **komentarzy** (tam gdzie to w/g Państwa niezbędne).\n",
    "\n",
    "### Programowanie zorientowane obiektowo\n",
    "Paradygmat programowania, według którego programy tworzymy z wykorzystaniem obiektów łączących dane (struktury danych) z ich funkcjonalnością (metody, funkcje, procedury)."
   ]
  },
  {
   "cell_type": "code",
   "execution_count": 1,
   "metadata": {
    "collapsed": true
   },
   "outputs": [],
   "source": [
    "class NowaCiekawaKlasa:\n",
    "    pass\n",
    "\n",
    "class NowszaCiekawszaKlasa(object):\n",
    "    pass"
   ]
  },
  {
   "cell_type": "markdown",
   "metadata": {},
   "source": [
    "### Dziedziczenie\n",
    "Mechanizm współdzielenia funkcjonalności między klasami, funkcjonalność ta przekazywana jest od klasy bazowej do potomnej."
   ]
  },
  {
   "cell_type": "code",
   "execution_count": 4,
   "metadata": {
    "collapsed": true
   },
   "outputs": [],
   "source": [
    "class InnaCiekawaKlasa(NowaCiekawaKlasa):\n",
    "    pass\n",
    "\n",
    "class InnaCiekawszaKlasa(NowszaCiekawszaKlasa):\n",
    "    pass"
   ]
  },
  {
   "cell_type": "markdown",
   "metadata": {},
   "source": [
    "### Zadanie 1. Figura. [50 pkt]\n",
    "\n",
    "Zaprogramuj hierarchię klas zaczynając od abstrakcyjnej klasy bazowej Figura. Uwzględnij klasy potomne wykorzystując idę dziedziczenia.\n",
    "* Figura2D [3pkt]\n",
    "* Koło [2pkt]\n",
    "* Wielokąt [2pkt]\n",
    "* Czworokąt [1pkt]\n",
    "* Trapez [1pkt]\n",
    "* Równoległobok [1pkt]\n",
    "* Prostokąt [1pkt]\n",
    "* Romb [1pkt]\n",
    "* Kwadrat [1pkt]\n",
    "* Wielokąt foremny [2pkt]\n",
    "* Pięciokąt Foremny [1pkt]\n",
    "* Sześciokąt foremny [1pkt]\n",
    "* Ośmiokąt foremny [1pkt]\n",
    "* Trójkąt [2pkt]\n",
    "* Trójkąt równoboczny [1pkt]\n",
    "* Trójkąt równoramienny [1pkt]\n",
    "* Trójkąt prostokątny [1pkt]\n",
    "\n",
    "Zaprogramuj następującą funkcjonalność, tam, gdzie to jest możliwe. Aby zaoszczędzić sobie pracy wykorzystaj jak najwięcej z idei dziedziczenia.\n",
    "* pole [2pkt]\n",
    "* obwód [2pkt]\n",
    "* największy bok [1pkt]\n",
    "* najmniejszy bok [1pkt]\n",
    "* przekątne [2pkt]\n",
    "* wycinek koła [2pkt]\n",
    "* gettery, settery własności figur [4pkt]\n",
    "* `__str__`, `__repr__`, `__lt__`, `__call__` [4pkt]\n",
    "* jakąkolwiek inną jaką uważają Państwo za ciekawą / potrzebną [po 1pkt za dodatek, max 4pkt]\n",
    "\n",
    "Ostatnie [5pkt] to docstringi oraz PEP8."
   ]
  },
  {
   "cell_type": "code",
   "execution_count": null,
   "metadata": {
    "collapsed": true
   },
   "outputs": [],
   "source": []
  },
  {
   "cell_type": "markdown",
   "metadata": {},
   "source": [
    "### Zadanie 2. Rakieta. [20 pkt]\n",
    "\n",
    "Proszę zakodować klasę od zabawy rakietami. Obiekt Rakieta może zainicjować rakiety w przestrzeni 2D. \n",
    "\n",
    "    r1 = Rakieta((3, 3))\n",
    "    r2 = Rakieta()\n",
    "\n",
    "Specyfikacja/funkcjonalność\n",
    "\n",
    "    __init__(self, start=(0, 0))\n",
    "\n",
    "* start - parametr ustawiający rakietę w przestrzeni 2D w podanym punkcie (i, j)\n",
    "           domyślnie i = j = 0 (jak wyżej)\n",
    "* get_position\n",
    "* move_up\n",
    "* move_side\n",
    "* move\n",
    "* __str__ - zaprogramować tak, by str(r1) zwracała ładny opis rakiety r1\n",
    "* distance - funkcja obliczająca odległość danej rakiety (self) od jakiejś innej (other) - coś na kształt funkcji __lt__ z wykładu dla klasy Konto\n",
    "* land_rocket - funkcja powodująca, że rakieta ląduje"
   ]
  },
  {
   "cell_type": "code",
   "execution_count": null,
   "metadata": {
    "collapsed": true
   },
   "outputs": [],
   "source": []
  },
  {
   "cell_type": "markdown",
   "metadata": {},
   "source": [
    "### Zadanie 3. Wahadłowiec, saltelita [10pkt]\n",
    "\n",
    "Napisz klasy rozszerzające klasę Rakieta.\n",
    "* wahadłowiec,\n",
    "* satelita.\n"
   ]
  },
  {
   "cell_type": "code",
   "execution_count": null,
   "metadata": {
    "collapsed": true
   },
   "outputs": [],
   "source": []
  },
  {
   "cell_type": "markdown",
   "metadata": {},
   "source": [
    "### Zadanie 4. Starwars. [20pkt]\n",
    "Na bazie klasy rakieta zbuduj abstrakcyjną klasę bazową StatekKosmiczny. Następnie utwórz klasy dziedziczące z bazowe dla kilku (nastu?) takich maszyn ze świata Gwiezdnych Wojen. Poniżej znajdą Państwo linki z wiedzą (dogłębną) na ten temat. \n",
    "\n",
    "źródła wiedzy\n",
    "* http://www.sluisvan.net/\n",
    "* http://en.wikipedia.org/wiki/List_of_Star_Wars_spacecraft\n",
    "* http://starwars.wikia.com/wiki/Category:Shuttles\n",
    "* http://www.starwars.com/databank -> vehicles\n"
   ]
  },
  {
   "cell_type": "code",
   "execution_count": null,
   "metadata": {},
   "outputs": [],
   "source": []
  }
 ],
 "metadata": {
  "kernelspec": {
   "display_name": "Python 3",
   "language": "python",
   "name": "python3"
  },
  "language_info": {
   "codemirror_mode": {
    "name": "ipython",
    "version": 3
   },
   "file_extension": ".py",
   "mimetype": "text/x-python",
   "name": "python",
   "nbconvert_exporter": "python",
   "pygments_lexer": "ipython3",
   "version": "3.5.5"
  }
 },
 "nbformat": 4,
 "nbformat_minor": 2
}
