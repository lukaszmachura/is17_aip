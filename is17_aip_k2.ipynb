{
 "cells": [
  {
   "cell_type": "markdown",
   "metadata": {},
   "source": [
    "## Zadanie 1. Dziedziczenie [40 pkt]\n",
    "\n",
    "Zaimplementuj i przetestuj hierarchię składającą się z następujących klas: Osoba, Student, Wykładowca oraz Stypendysta. Poszczególne klasy zawierają następujące cechy:\n",
    "\n",
    "* Osoba: imię, nazwisko, pesel, rok urodzenia oraz płeć\n",
    "* Student: zawiera wszystkie cechy zawarte w klasie Osoba oraz numer indeksu\n",
    "* Wykładowca: zawiera wszystkie cechy zawarte w klasie Osoba oraz tytuł (tytuł naukowy lub stopień naukowy)\n",
    "* Stypendysta: zawiera wszystkie cechy zawarte w klasie Student oraz kwotę stypendium.\n",
    "\n",
    "Każda klasa powinna również zawierać: zestaw funkcji umożliwiających nadać wartości początkowe, odczyt odpowiednich pól."
   ]
  },
  {
   "cell_type": "code",
   "execution_count": null,
   "metadata": {},
   "outputs": [],
   "source": []
  },
  {
   "cell_type": "markdown",
   "metadata": {},
   "source": [
    "## Zadanie 2. Iterator [3 x 10 pkt]\n",
    "Napisz iterator, który oferuje funkcjonalność zwracania kolejnych potęg wybranej liczby. Wykorzystaj trzy metody\n",
    "* klasę (__iter__, __next__)\n",
    "* funkcję (yield)\n",
    "* wyrażenie generujące (...)"
   ]
  },
  {
   "cell_type": "code",
   "execution_count": null,
   "metadata": {},
   "outputs": [],
   "source": []
  },
  {
   "cell_type": "markdown",
   "metadata": {},
   "source": [
    "## Zadanie 3. Morse [30 pkt]\n",
    "Napisz program (klasę) która przekształca automatycznie zdanie z języka polskiego do [alfabetu Morse-a](https://pl.wikipedia.org/wiki/Kod_Morse%E2%80%99a). Użyj iteratorów."
   ]
  },
  {
   "cell_type": "code",
   "execution_count": null,
   "metadata": {},
   "outputs": [],
   "source": []
  }
 ],
 "metadata": {
  "kernelspec": {
   "display_name": "Python 3",
   "language": "python",
   "name": "python3"
  },
  "language_info": {
   "codemirror_mode": {
    "name": "ipython",
    "version": 3
   },
   "file_extension": ".py",
   "mimetype": "text/x-python",
   "name": "python",
   "nbconvert_exporter": "python",
   "pygments_lexer": "ipython3",
   "version": "3.6.3"
  }
 },
 "nbformat": 4,
 "nbformat_minor": 2
}
